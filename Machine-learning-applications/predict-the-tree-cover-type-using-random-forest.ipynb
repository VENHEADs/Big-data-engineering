{
 "cells": [
  {
   "cell_type": "markdown",
   "metadata": {},
   "source": [
    "### Predict the tree cover type using Random Forest"
   ]
  },
  {
   "cell_type": "markdown",
   "metadata": {},
   "source": [
    "#### Task description\n",
    "The dataset represents the data about trees which were planted in the US (https://archive.ics.uci.edu/ml/datasets/covertype). The dataset consists of the information about 500000 trees. Your aim is to build Random Forest Ensemble to predict the cover type of trees. In order to successfully complete this assignment you have to follow this algorithm:\n",
    "\n",
    "Load the training data\n",
    "Transform categorical features into vector representations\n",
    "Split the dataset into the train and validation part\n",
    "Fit the Random Forest Ensemble on the training set\n",
    "Compare accuracy of the fitted model with the Logistic Regression Model, which is about 0.67 for this set\n",
    "If you have enough time, it will be very interesting to dig into further research through these steps:\n",
    "\n",
    "Determine which features are valuable for your model (calculate feature importance of your model).\n",
    "Try to reduce the number of trees and see the results.\n",
    "Understand why the linear models have poor performance on this dataset.\n",
    "Notes\n",
    "The dataset is located at /data/covertype.\n",
    "\n",
    "The test set will be replaced during the testing phase. Do not forget to clear your code and choose the appropriate option in the dropdown menu (Week 4, Random Forest). If you have any questions feel free to report about problems on the course forum.\n",
    "\n",
    "The metric for this assignment is MultiClass Accuracy. You have to achieve score higher than 71% on the test dataset in order to get the full score for the assignment."
   ]
  },
  {
   "cell_type": "code",
   "execution_count": 1,
   "metadata": {
    "collapsed": true
   },
   "outputs": [],
   "source": [
    "from __future__ import division, print_function, unicode_literals \n",
    "\n",
    "from pyspark.ml.evaluation import MulticlassClassificationEvaluator\n",
    "from pyspark.ml.classification import RandomForestClassifier\n",
    "from pyspark.ml.feature import StringIndexer, OneHotEncoder\n",
    "from pyspark.ml.feature import VectorAssembler\n",
    "from pyspark.sql import SparkSession\n",
    "from pyspark.ml import Pipeline"
   ]
  },
  {
   "cell_type": "code",
   "execution_count": 2,
   "metadata": {
    "collapsed": true
   },
   "outputs": [],
   "source": [
    "spark_session = SparkSession.builder\\\n",
    "                            .enableHiveSupport()\\\n",
    "                            .appName(\"spark sql\")\\\n",
    "                            .master(\"local[4]\")\\\n",
    "                            .getOrCreate()"
   ]
  },
  {
   "cell_type": "code",
   "execution_count": 3,
   "metadata": {
    "collapsed": true
   },
   "outputs": [],
   "source": [
    "train = spark_session.read.csv(\"/data/covertype2/train.csv\", header=True, inferSchema=True)\n",
    "test = spark_session.read.csv(\"/data/covertype2/test.csv\", header=True, inferSchema=True)"
   ]
  },
  {
   "cell_type": "code",
   "execution_count": 4,
   "metadata": {
    "collapsed": true
   },
   "outputs": [],
   "source": [
    "names = ['Elevation', 'Aspect', 'Slope', 'Horizontal_Distance_To_Hydrology', 'Vertical_Distance_To_Hydrology', \n",
    "         'Horizontal_Distance_To_Roadways', 'Hillshade_9am', 'Hillshade_Noon', 'Hillshade_3pm', \n",
    "         'Horizontal_Distance_To_Fire_Points', 'Wild_Type_ohe', 'Soil_Type_ohe']"
   ]
  },
  {
   "cell_type": "code",
   "execution_count": 5,
   "metadata": {
    "collapsed": true
   },
   "outputs": [],
   "source": [
    "wildTypeTransformer = StringIndexer(inputCol=\"Wild_Type\", outputCol=\"Wild_Type_int\")\n",
    "soilTypeTransformer = StringIndexer(inputCol=\"Soil_Type\", outputCol=\"Soil_Type_int\")\n",
    "\n",
    "wildTypeEncoder = OneHotEncoder(inputCol=\"Wild_Type_int\", outputCol=\"Wild_Type_ohe\")\n",
    "soilTypeEncoder = OneHotEncoder(inputCol=\"Soil_Type_int\", outputCol=\"Soil_Type_ohe\")\n",
    "\n",
    "assembler = VectorAssembler(inputCols=names, outputCol=\"features\")\n",
    "\n",
    "rf = RandomForestClassifier(numTrees=50, maxDepth=12, labelCol=\"Target\", predictionCol=\"prediction\")\n",
    "\n",
    "evaluator = MulticlassClassificationEvaluator(labelCol=\"Target\", predictionCol=\"prediction\")\n",
    "\n",
    "pipeline = Pipeline(stages=[wildTypeTransformer, soilTypeTransformer, wildTypeEncoder, soilTypeEncoder, assembler, rf])"
   ]
  },
  {
   "cell_type": "code",
   "execution_count": 6,
   "metadata": {
    "collapsed": true
   },
   "outputs": [],
   "source": [
    "model = pipeline.fit(train)\n",
    "predict = model.transform(test)"
   ]
  },
  {
   "cell_type": "code",
   "execution_count": 7,
   "metadata": {},
   "outputs": [
    {
     "name": "stdout",
     "output_type": "stream",
     "text": [
      "0.7550895936553261\n"
     ]
    }
   ],
   "source": [
    "print(evaluator.evaluate(predict))"
   ]
  }
 ],
 "metadata": {
  "anaconda-cloud": {},
  "kernelspec": {
   "display_name": "Python 3",
   "language": "python",
   "name": "python3"
  },
  "language_info": {
   "codemirror_mode": {
    "name": "ipython",
    "version": 3
   },
   "file_extension": ".py",
   "mimetype": "text/x-python",
   "name": "python",
   "nbconvert_exporter": "python",
   "pygments_lexer": "ipython3",
   "version": "3.6.3"
  }
 },
 "nbformat": 4,
 "nbformat_minor": 2
}
