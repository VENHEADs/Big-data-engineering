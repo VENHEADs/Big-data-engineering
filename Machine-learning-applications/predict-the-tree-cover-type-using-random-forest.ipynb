{
 "cells": [
  {
   "cell_type": "code",
   "execution_count": 1,
   "metadata": {},
   "outputs": [],
   "source": [
    "from __future__ import division, print_function, unicode_literals \n",
    "\n",
    "from pyspark.ml.evaluation import MulticlassClassificationEvaluator\n",
    "from pyspark.ml.classification import RandomForestClassifier\n",
    "from pyspark.ml.feature import StringIndexer, OneHotEncoder\n",
    "from pyspark.ml.feature import VectorAssembler\n",
    "from pyspark.sql import SparkSession\n",
    "from pyspark.ml import Pipeline"
   ]
  },
  {
   "cell_type": "code",
   "execution_count": 2,
   "metadata": {},
   "outputs": [],
   "source": [
    "spark_session = SparkSession.builder\\\n",
    "                            .enableHiveSupport()\\\n",
    "                            .appName(\"spark sql\")\\\n",
    "                            .master(\"local[4]\")\\\n",
    "                            .getOrCreate()"
   ]
  },
  {
   "cell_type": "code",
   "execution_count": 3,
   "metadata": {},
   "outputs": [],
   "source": [
    "train = spark_session.read.csv(\"/data/covertype2/train.csv\", header=True, inferSchema=True)\n",
    "test = spark_session.read.csv(\"/data/covertype2/test.csv\", header=True, inferSchema=True)"
   ]
  },
  {
   "cell_type": "code",
   "execution_count": 4,
   "metadata": {},
   "outputs": [],
   "source": [
    "names = ['Elevation', 'Aspect', 'Slope', 'Horizontal_Distance_To_Hydrology', 'Vertical_Distance_To_Hydrology', \n",
    "         'Horizontal_Distance_To_Roadways', 'Hillshade_9am', 'Hillshade_Noon', 'Hillshade_3pm', \n",
    "         'Horizontal_Distance_To_Fire_Points', 'Wild_Type_ohe', 'Soil_Type_ohe']"
   ]
  },
  {
   "cell_type": "code",
   "execution_count": 5,
   "metadata": {},
   "outputs": [],
   "source": [
    "wildTypeTransformer = StringIndexer(inputCol=\"Wild_Type\", outputCol=\"Wild_Type_int\")\n",
    "soilTypeTransformer = StringIndexer(inputCol=\"Soil_Type\", outputCol=\"Soil_Type_int\")\n",
    "\n",
    "wildTypeEncoder = OneHotEncoder(inputCol=\"Wild_Type_int\", outputCol=\"Wild_Type_ohe\")\n",
    "soilTypeEncoder = OneHotEncoder(inputCol=\"Soil_Type_int\", outputCol=\"Soil_Type_ohe\")\n",
    "\n",
    "assembler = VectorAssembler(inputCols=names, outputCol=\"features\")\n",
    "\n",
    "rf = RandomForestClassifier(numTrees=50, maxDepth=12, labelCol=\"Target\", predictionCol=\"prediction\")\n",
    "\n",
    "evaluator = MulticlassClassificationEvaluator(labelCol=\"Target\", predictionCol=\"prediction\")\n",
    "\n",
    "pipeline = Pipeline(stages=[wildTypeTransformer, soilTypeTransformer, wildTypeEncoder, soilTypeEncoder, assembler, rf])"
   ]
  },
  {
   "cell_type": "code",
   "execution_count": 6,
   "metadata": {},
   "outputs": [],
   "source": [
    "model = pipeline.fit(train)\n",
    "predict = model.transform(test)"
   ]
  },
  {
   "cell_type": "code",
   "execution_count": 7,
   "metadata": {},
   "outputs": [
    {
     "name": "stdout",
     "output_type": "stream",
     "text": [
      "0.7550895936553261\n"
     ]
    }
   ],
   "source": [
    "print(evaluator.evaluate(predict))"
   ]
  }
 ],
 "metadata": {
  "anaconda-cloud": {},
  "kernelspec": {
   "display_name": "Python 3",
   "language": "python",
   "name": "python3"
  },
  "language_info": {
   "codemirror_mode": {
    "name": "ipython",
    "version": 3
   },
   "file_extension": ".py",
   "mimetype": "text/x-python",
   "name": "python",
   "nbconvert_exporter": "python",
   "pygments_lexer": "ipython3",
   "version": "3.6.2"
  }
 },
 "nbformat": 4,
 "nbformat_minor": 2
}
