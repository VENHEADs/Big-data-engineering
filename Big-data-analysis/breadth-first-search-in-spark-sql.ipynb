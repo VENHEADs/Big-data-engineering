{
 "cells": [
  {
   "cell_type": "code",
   "execution_count": 1,
   "metadata": {},
   "outputs": [],
   "source": [
    "from pyspark.sql.types import StructType, StructField, IntegerType\n",
    "from pyspark.sql import SparkSession\n",
    "from pyspark.sql.functions import *"
   ]
  },
  {
   "cell_type": "code",
   "execution_count": 2,
   "metadata": {},
   "outputs": [],
   "source": [
    "spark = SparkSession.builder.enableHiveSupport().master(\"local[2]\").getOrCreate()"
   ]
  },
  {
   "cell_type": "code",
   "execution_count": 3,
   "metadata": {},
   "outputs": [],
   "source": [
    "graph_schema = StructType([\n",
    "    StructField(\"to\", IntegerType(), False),\n",
    "    StructField(\"from\", IntegerType(), False)\n",
    "])"
   ]
  },
  {
   "cell_type": "code",
   "execution_count": 4,
   "metadata": {},
   "outputs": [],
   "source": [
    "dist_schema = StructType([\n",
    "    StructField(\"vertex\", IntegerType(), False),\n",
    "    StructField(\"distance\", IntegerType(), False)\n",
    "])"
   ]
  },
  {
   "cell_type": "code",
   "execution_count": 5,
   "metadata": {},
   "outputs": [],
   "source": [
    "def shortest_path(v_from, v_to, dataset_path=None):\n",
    "    edges = spark.read.csv(dataset_path, sep=\"\\t\", schema=graph_schema)\n",
    "    distanses = spark.createDataFrame(data=[], schema=dist_schema)\n",
    "    \n",
    "    edges_from = edges.select(col('to'), col('from').alias('id')) \\\n",
    "                .withColumn('dist', lit(1)) \\\n",
    "                .filter(col('to') == v_to) \\\n",
    "                .cache()\n",
    "\n",
    "    distanses = edges_from.select(col('id').alias('vertex'), col('dist').alias('distance')).cache()\n",
    "    \n",
    "    count = 0\n",
    "    tmp = edges_from\n",
    "    itr = 1 \n",
    "\n",
    "    while count == 0:\n",
    "        tmp = tmp.join(edges.select(col('from'), col('to').alias('id')), on='id', how=\"inner\") \\\n",
    "                 .join(distanses.withColumn(\"id\", col(\"vertex\")), on='id', how=\"left_outer\") \\\n",
    "                 .withColumn(\"_dist\", col('dist') + 1) \\\n",
    "                 .select(col('to'), col('from').alias('id'), col(\"_dist\").alias('dist'))\\\n",
    "                 .cache()\n",
    "\n",
    "        count = tmp.filter(col('id') == v_from).count()\n",
    "\n",
    "        distanses = distanses.union(tmp.select(col('id'), col(\"dist\"))).cache()\n",
    "\n",
    "        print \"itteration %s, count %s\" % (itr, count)\n",
    "        itr += 1\n",
    "    \n",
    "    return distanses.filter(col('vertex') == v_from).select(col('distance')).collect()[0].distance"
   ]
  },
  {
   "cell_type": "code",
   "execution_count": 6,
   "metadata": {},
   "outputs": [
    {
     "name": "stdout",
     "output_type": "stream",
     "text": [
      "itteration 1, count 0\n",
      "itteration 2, count 0\n",
      "itteration 3, count 0\n",
      "itteration 4, count 0\n",
      "itteration 5, count 0\n",
      "itteration 6, count 0\n",
      "itteration 7, count 1\n",
      "8\n"
     ]
    }
   ],
   "source": [
    "print shortest_path(12, 34, \"/data/twitter/twitter_sample2.txt\")"
   ]
  }
 ],
 "metadata": {
  "kernelspec": {
   "display_name": "Python 2",
   "language": "python",
   "name": "python2"
  },
  "language_info": {
   "codemirror_mode": {
    "name": "ipython",
    "version": 2
   },
   "file_extension": ".py",
   "mimetype": "text/x-python",
   "name": "python",
   "nbconvert_exporter": "python",
   "pygments_lexer": "ipython2",
   "version": "2.7.12"
  }
 },
 "nbformat": 4,
 "nbformat_minor": 2
}
