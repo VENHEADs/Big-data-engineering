{
 "cells": [
  {
   "cell_type": "code",
   "execution_count": null,
   "metadata": {},
   "outputs": [],
   "source": [
    "# DB creating\n",
    "\n",
    "%%writefile creation_db.hql\n",
    "\n",
    "DROP DATABASE IF EXISTS '''db name''' CASCADE;\n",
    "\n",
    "CREATE DATABASE '''db name''' LOCATION '/path/to/data'"
   ]
  },
  {
   "cell_type": "code",
   "execution_count": null,
   "metadata": {},
   "outputs": [],
   "source": [
    "#Creating table by regex\n",
    "\n",
    "%%writefile posts_sample_tmp_creation.hql\n",
    "\n",
    "ADD JAR /opt/cloudera/parcels/CDH/lib/hive/lib/hive-contrib.jar;\n",
    "\n",
    "USE '''db name''';\n",
    "DROP TABLE IF EXISTS '''table name''';\n",
    "\n",
    "CREATE EXTERNAL TABLE '''table name'''(\n",
    "    '''Column name''' '''Column type''',\n",
    "    '''Column name''' '''Column type''',\n",
    "    '''Column name''' '''Column type''',\n",
    "    .............\n",
    ")\n",
    "ROW FORMAT\n",
    "SERDE 'org.apache.hadoop.hive.serde2.RegexSerDe'\n",
    "WITH SERDEPROPERTIES (\n",
    "\"input.regex\" = '^ regex .*$'\n",
    ")\n",
    "LOCATION '/path/to/data'\n",
    "\n",
    "#property to skip header rows\n",
    "tblproperties (\"skip.header.line.count\"=\"1\");"
   ]
  },
  {
   "cell_type": "code",
   "execution_count": null,
   "metadata": {},
   "outputs": [],
   "source": [
    "CREATE VIEW tmp(\n",
    "\n",
    ")\n",
    "AS SELECT\n",
    "\n",
    "regexp_extract(field, \"regexp\", 1),\n",
    "\n",
    "FROM table;"
   ]
  },
  {
   "cell_type": "code",
   "execution_count": null,
   "metadata": {},
   "outputs": [],
   "source": [
    "#Select query\n",
    "%%writefile query.hql\n",
    "\n",
    "ADD JAR /opt/cloudera/parcels/CDH/lib/hive/lib/hive-contrib.jar;\n",
    "ADD JAR /opt/cloudera/parcels/CDH/lib/hive/lib/hive-serde.jar;\n",
    "\n",
    "USE '''db name''';\n",
    "\n",
    "SELECT * FROM '''table name''' LIMIT 10;"
   ]
  },
  {
   "cell_type": "code",
   "execution_count": null,
   "metadata": {},
   "outputs": [],
   "source": [
    "#Performing a query\n",
    "! hive -f query.hql"
   ]
  },
  {
   "cell_type": "code",
   "execution_count": null,
   "metadata": {},
   "outputs": [],
   "source": [
    "#Saving only result into a file\n",
    "! hive -S -e \"use lkvdb; select id from posts_sample_tmp_view where id is not null;\" >> ids.txt"
   ]
  }
 ],
 "metadata": {
  "kernelspec": {
   "display_name": "Python 2",
   "language": "python",
   "name": "python2"
  },
  "language_info": {
   "codemirror_mode": {
    "name": "ipython",
    "version": 2
   },
   "file_extension": ".py",
   "mimetype": "text/x-python",
   "name": "python",
   "nbconvert_exporter": "python",
   "pygments_lexer": "ipython2",
   "version": "2.7.12"
  }
 },
 "nbformat": 4,
 "nbformat_minor": 2
}
