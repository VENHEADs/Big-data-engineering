{
 "cells": [
  {
   "cell_type": "code",
   "execution_count": 1,
   "metadata": {},
   "outputs": [
    {
     "name": "stdout",
     "output_type": "stream",
     "text": [
      "Welcome to\n",
      "      ____              __\n",
      "     / __/__  ___ _____/ /__\n",
      "    _\\ \\/ _ \\/ _ `/ __/  '_/\n",
      "   /__ / .__/\\_,_/_/ /_/\\_\\   version 2.1.1\n",
      "      /_/\n",
      "\n",
      "Using Python version 2.7.12 (default, Nov 19 2016 06:48:10)\n",
      "SparkSession available as 'spark'.\n"
     ]
    }
   ],
   "source": [
    "import os\n",
    "\n",
    "from pyspark.sql import SparkSession\n",
    "from pyspark.sql.functions import *\n",
    "from pyspark.sql import Window\n",
    "\n",
    "execfile(os.path.join(os.environ[\"SPARK_HOME\"], 'python/pyspark/shell.py'))"
   ]
  },
  {
   "cell_type": "code",
   "execution_count": 2,
   "metadata": {},
   "outputs": [],
   "source": [
    "sparkSession = SparkSession.builder.enableHiveSupport().master(\"local [2]\").getOrCreate()\n",
    "\n",
    "data = sparkSession.read.parquet(\"/data/sample264\")\n",
    "meta = sparkSession.read.parquet(\"/data/meta\")"
   ]
  },
  {
   "cell_type": "code",
   "execution_count": 3,
   "metadata": {},
   "outputs": [],
   "source": [
    "userToTrackWindow1 = Window.partitionBy('userId').orderBy(col('count').desc())\n",
    "userToTrackWindow2 = Window.partitionBy('userId')\n",
    "\n",
    "userToTrack_tmp = data.groupBy(col(\"userId\"), col(\"trackId\")) \\\n",
    "                      .count() \\\n",
    "                      .withColumn(\"rank\", rank().over(userToTrackWindow1)) \\\n",
    "                      .filter(col(\"rank\") <= 1000) \\\n",
    "                      .withColumn('sum_count', sum(col('count')).over(userToTrackWindow2)) \\\n",
    "                      .cache()\n",
    "                    \n",
    "userToTrack = userToTrack_tmp.withColumn('norm_count', col('count') / col('sum_count') * 0.4) \\\n",
    "                             .select(col(\"userId\").alias(\"id1\"), col(\"trackId\").alias(\"id2\"), col(\"norm_count\").alias(\"weight\"))"
   ]
  },
  {
   "cell_type": "code",
   "execution_count": 4,
   "metadata": {},
   "outputs": [],
   "source": [
    "userToTrack2 = userToTrack_tmp.withColumn('norm_count', col('count') / col('sum_count') * 1.0) \\\n",
    "                              .select(col(\"userId\").alias(\"id1\"), col(\"trackId\").alias(\"id2\"), col(\"norm_count\").alias(\"weight\"))"
   ]
  },
  {
   "cell_type": "code",
   "execution_count": 5,
   "metadata": {},
   "outputs": [],
   "source": [
    "userToArtistWindow1 = Window.partitionBy('userId').orderBy(col('count').desc())\n",
    "userToArtistWindow2 = Window.partitionBy('userId')\n",
    "\n",
    "userToArtist = data.groupBy(col(\"userId\"), col(\"artistId\")) \\\n",
    "                   .count() \\\n",
    "                   .withColumn(\"rank\", rank().over(userToArtistWindow1)) \\\n",
    "                   .filter(col(\"rank\") <= 100) \\\n",
    "                   .withColumn('sum_count', sum(col('count')).over(userToArtistWindow2)) \\\n",
    "                   .withColumn('norm_count', col('count') / col('sum_count') * 0.6) \\\n",
    "                   .select(col(\"userId\").alias(\"id1\"), col(\"artistId\").alias(\"id2\"), col(\"norm_count\").alias(\"weight\")) \\\n",
    "                   .cache()"
   ]
  },
  {
   "cell_type": "code",
   "execution_count": 6,
   "metadata": {},
   "outputs": [],
   "source": [
    "artistToTrackWindow1 = Window.partitionBy('artistId').orderBy(col('count').desc())\n",
    "artistToTrackWindow2 = Window.partitionBy('artistId')\n",
    "\n",
    "artistToTrack = data.groupBy(col(\"artistId\"), col(\"trackId\")) \\\n",
    "                    .count() \\\n",
    "                    .withColumn(\"rank\", rank().over(artistToTrackWindow1)) \\\n",
    "                    .filter(col(\"rank\") <= 100) \\\n",
    "                    .withColumn('sum_count', sum(col('count')).over(artistToTrackWindow2)) \\\n",
    "                    .withColumn('norm_count', col('count') / col('sum_count') * 0.7) \\\n",
    "                    .select(col(\"artistId\").alias(\"id1\"), col(\"trackId\").alias(\"id2\"), col(\"norm_count\").alias(\"weight\")) \\\n",
    "                    .cache()"
   ]
  },
  {
   "cell_type": "code",
   "execution_count": 7,
   "metadata": {},
   "outputs": [],
   "source": [
    "data2 = data.select(col('userId').alias('userId'), \n",
    "                    col('trackId').alias('trackId2'), \n",
    "                    col('artistId').alias('artistId2'), \n",
    "                    col('timestamp').alias('timestamp2'))"
   ]
  },
  {
   "cell_type": "code",
   "execution_count": 8,
   "metadata": {},
   "outputs": [],
   "source": [
    "trackToTrackWindow1 = Window.partitionBy('trackId').orderBy(col('count').desc())\n",
    "trackToTrackWindow2 = Window.partitionBy('trackId')\n",
    "\n",
    "trackToTrak = data.join(data2, 'userId', 'inner') \\\n",
    "                  .filter((col('trackId') < col('trackId2')) & (abs(col('timestamp') - col('timestamp2')) < 7 * 60)) \\\n",
    "                  .groupBy(col('trackId'), col('trackId2')) \\\n",
    "                  .count() \\\n",
    "                  .withColumn(\"rank\", rank().over(trackToTrackWindow1)) \\\n",
    "                  .filter(col(\"rank\") <= 40) \\\n",
    "                  .withColumn('sum_count', sum(col('count')).over(trackToTrackWindow2)) \\\n",
    "                  .withColumn('norm_count', col('count') / col('sum_count') * 0.3) \\\n",
    "                  .select(col(\"trackId\").alias(\"id1\"), col(\"trackId2\").alias(\"id2\"), col(\"norm_count\").alias(\"weight\")) \\\n",
    "                  .cache()"
   ]
  },
  {
   "cell_type": "code",
   "execution_count": 9,
   "metadata": {},
   "outputs": [],
   "source": [
    "init_vector = userToTrack.union(userToArtist) \\\n",
    "                         .join(meta.withColumn(\"id2\", col(\"id\")), on=\"id2\", how=\"inner\")\\\n",
    "                         .filter( col(\"id\") == 776748 )\\\n",
    "                         .orderBy(col(\"Artist\"), col(\"Name\"))\\\n",
    "                         .withColumn(\"weight\", lit(1.))\\\n",
    "                         .select(col(\"id2\").alias(\"id1\"), col(\"weight\").alias(\"vertex_weight\"))\n",
    "                    \n",
    "user_vector = spark.createDataFrame(data=[(776748, 1.)], schema=init_vector.schema)"
   ]
  },
  {
   "cell_type": "code",
   "execution_count": 10,
   "metadata": {},
   "outputs": [],
   "source": [
    "edges = userToTrack.union(userToArtist) \\\n",
    "                   .union(userToTrack2) \\\n",
    "                   .union(artistToTrack) \\\n",
    "                   .union(trackToTrak)"
   ]
  },
  {
   "cell_type": "code",
   "execution_count": 11,
   "metadata": {},
   "outputs": [],
   "source": [
    "x = init_vector\n",
    "alpha = .15\n",
    "\n",
    "for i in range(5):\n",
    "    step = x.join(edges, on=\"id1\", how=\"inner\") \\\n",
    "            .withColumn(\"_weight\", col(\"weight\") * col(\"vertex_weight\") * ( 1 - alpha )) \\\n",
    "            .select(col(\"id2\").alias(\"id1\"), col(\"_weight\").alias(\"vertex_weight\"))\n",
    "\n",
    "    x = user_vector.withColumn(\"_weight\", col(\"vertex_weight\") * alpha ) \\\n",
    "                   .select(col(\"id1\"), col(\"_weight\").alias(\"vertex_weight\")) \\\n",
    "                   .union(step) "
   ]
  },
  {
   "cell_type": "code",
   "execution_count": 12,
   "metadata": {},
   "outputs": [],
   "source": [
    "reccomendations = x.select(col(\"id1\").alias(\"id\"), col(\"vertex_weight\")) \\\n",
    "                   .join(meta, on=\"id\", how=\"inner\") \\\n",
    "                   .filter(col(\"type\") == 'track') \\\n",
    "                   .orderBy(col(\"vertex_weight\").desc()) \\\n",
    "                   .select(col(\"Name\"), col(\"Artist\"), col(\"vertex_weight\")) \\\n",
    "                   .take(40)"
   ]
  },
  {
   "cell_type": "code",
   "execution_count": 13,
   "metadata": {},
   "outputs": [
    {
     "name": "stdout",
     "output_type": "stream",
     "text": [
      "Kill The DJ Artist: Green Day 0.01417\n",
      "Come Out and Play Artist: The Offspring 0.00944\n",
      "21 Guns Artist: Green Day 0.00944\n",
      "Nothing Going On Artist: Clawfinger 0.00944\n",
      "Kill The DJ Artist: Green Day 0.00567\n",
      "Kill The DJ Artist: Green Day 0.00506\n",
      "Take It Out On Me Artist: Thousand Foot Krutch 0.00472\n",
      "Cocaine Artist: Nomy 0.00472\n",
      "Prayer Of The Refugee Artist: Rise Against 0.00472\n",
      "Getting Away With Murder Artist: Papa Roach 0.00472\n",
      "I Hate Everything About You Artist: Three Days Grace 0.00472\n",
      "Wait And Bleed Artist: Slipknot 0.00472\n",
      "In The End Artist: Linkin Park 0.00472\n",
      "Beautiful disaster Artist: 311 0.00472\n",
      "Hard Rock Hallelujah Artist: Lordi 0.00472\n",
      "Numb Artist: Linkin Park 0.00472\n",
      "Sunday Artist: Iggy Pop 0.00472\n",
      "Eagle Artist: Gotthard 0.00472\n",
      "Girls and Boys Artist: Blur 0.00472\n",
      "Sky is Over Artist: Serj Tankian 0.00472\n",
      "She Keeps Me Up Artist: Nickelback 0.00472\n",
      "Here To Stay Artist: Korn 0.00472\n",
      "Kryptonite Artist: 3 Doors Down 0.00472\n",
      "The Vengeful One Artist: Disturbed 0.00472\n",
      "Come Out and Play Artist: The Offspring 0.00378\n",
      "21 Guns Artist: Green Day 0.00378\n",
      "Nothing Going On Artist: Clawfinger 0.00378\n",
      "21 Guns Artist: Green Day 0.00337\n",
      "Nothing Going On Artist: Clawfinger 0.00337\n",
      "Come Out and Play Artist: The Offspring 0.00337\n",
      "Girls and Boys Artist: Blur 0.00189\n",
      "Sky is Over Artist: Serj Tankian 0.00189\n",
      "Prayer Of The Refugee Artist: Rise Against 0.00189\n",
      "She Keeps Me Up Artist: Nickelback 0.00189\n",
      "The Vengeful One Artist: Disturbed 0.00189\n",
      "Here To Stay Artist: Korn 0.00189\n",
      "I Hate Everything About You Artist: Three Days Grace 0.00189\n",
      "Getting Away With Murder Artist: Papa Roach 0.00189\n",
      "Kryptonite Artist: 3 Doors Down 0.00189\n",
      "Wait And Bleed Artist: Slipknot 0.00189\n"
     ]
    }
   ],
   "source": [
    "for val in reccomendations:\n",
    "    print \"%s %s %.5f\" % val"
   ]
  }
 ],
 "metadata": {
  "kernelspec": {
   "display_name": "Python 2",
   "language": "python",
   "name": "python2"
  },
  "language_info": {
   "codemirror_mode": {
    "name": "ipython",
    "version": 2
   },
   "file_extension": ".py",
   "mimetype": "text/x-python",
   "name": "python",
   "nbconvert_exporter": "python",
   "pygments_lexer": "ipython2",
   "version": "2.7.12"
  }
 },
 "nbformat": 4,
 "nbformat_minor": 2
}
