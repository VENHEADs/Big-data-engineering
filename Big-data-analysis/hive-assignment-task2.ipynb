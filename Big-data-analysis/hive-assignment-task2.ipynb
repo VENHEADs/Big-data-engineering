{
 "cells": [
  {
   "cell_type": "code",
   "execution_count": 34,
   "metadata": {},
   "outputs": [
    {
     "name": "stdout",
     "output_type": "stream",
     "text": [
      "Overwriting query.hql\n"
     ]
    }
   ],
   "source": [
    "%%writefile query.hql\n",
    "\n",
    "USE stackoverflow_;\n",
    "\n",
    "SELECT \n",
    "    tag,\n",
    "    rank() OVER (ORDER BY count_16 DESC) rank_16,\n",
    "    rank() OVER (ORDER BY count_09 DESC) rank_09,\n",
    "    count_16,\n",
    "    count_09\n",
    "FROM (\n",
    "    SELECT \n",
    "        tag,\n",
    "        sum(if(year = '2009', 1, 0)) count_09,\n",
    "        sum(if(year = '2016', 1, 0)) count_16\n",
    "    FROM posts\n",
    "    LATERAL VIEW explode(tags) tag as tag\n",
    "    WHERE \n",
    "        post_type_id = 1 \n",
    "        AND year IN ('2009', '2016') \n",
    "    GROUP BY tag\n",
    ") tags_table\n",
    "ORDER BY rank_16\n",
    "LIMIT 10;"
   ]
  },
  {
   "cell_type": "code",
   "execution_count": 35,
   "metadata": {},
   "outputs": [
    {
     "name": "stdout",
     "output_type": "stream",
     "text": [
      "\n",
      "Logging initialized using configuration in jar:file:/usr/local/apache-hive-1.1.0-bin/lib/hive-common-1.1.0.jar!/hive-log4j.properties\n",
      "OK\n",
      "Time taken: 1.169 seconds\n",
      "Query ID = jovyan_20180313214141_2ce363da-fe7e-4801-b667-ff85abdbfca7\n",
      "Total jobs = 4\n",
      "Launching Job 1 out of 4\n",
      "Number of reduce tasks not specified. Estimated from input data size: 1\n",
      "In order to change the average load for a reducer (in bytes):\n",
      "  set hive.exec.reducers.bytes.per.reducer=<number>\n",
      "In order to limit the maximum number of reducers:\n",
      "  set hive.exec.reducers.max=<number>\n",
      "In order to set a constant number of reducers:\n",
      "  set mapreduce.job.reduces=<number>\n",
      "Starting Job = job_1520959836906_0047, Tracking URL = http://d724ebf96142:8088/proxy/application_1520959836906_0047/\n",
      "Kill Command = /opt/hadoop/bin/hadoop job  -kill job_1520959836906_0047\n",
      "Hadoop job information for Stage-1: number of mappers: 1; number of reducers: 1\n",
      "2018-03-13 21:41:55,114 Stage-1 map = 0%,  reduce = 0%\n",
      "2018-03-13 21:42:06,055 Stage-1 map = 100%,  reduce = 0%, Cumulative CPU 8.41 sec\n",
      "2018-03-13 21:42:14,803 Stage-1 map = 100%,  reduce = 100%, Cumulative CPU 14.16 sec\n",
      "MapReduce Total cumulative CPU time: 14 seconds 160 msec\n",
      "Ended Job = job_1520959836906_0047\n",
      "Launching Job 2 out of 4\n",
      "Number of reduce tasks not specified. Estimated from input data size: 1\n",
      "In order to change the average load for a reducer (in bytes):\n",
      "  set hive.exec.reducers.bytes.per.reducer=<number>\n",
      "In order to limit the maximum number of reducers:\n",
      "  set hive.exec.reducers.max=<number>\n",
      "In order to set a constant number of reducers:\n",
      "  set mapreduce.job.reduces=<number>\n",
      "Starting Job = job_1520959836906_0048, Tracking URL = http://d724ebf96142:8088/proxy/application_1520959836906_0048/\n",
      "Kill Command = /opt/hadoop/bin/hadoop job  -kill job_1520959836906_0048\n",
      "Hadoop job information for Stage-2: number of mappers: 1; number of reducers: 1\n",
      "2018-03-13 21:42:33,327 Stage-2 map = 0%,  reduce = 0%\n",
      "2018-03-13 21:42:40,958 Stage-2 map = 100%,  reduce = 0%, Cumulative CPU 4.05 sec\n",
      "2018-03-13 21:42:50,667 Stage-2 map = 100%,  reduce = 100%, Cumulative CPU 10.52 sec\n",
      "MapReduce Total cumulative CPU time: 10 seconds 520 msec\n",
      "Ended Job = job_1520959836906_0048\n",
      "Launching Job 3 out of 4\n",
      "Number of reduce tasks not specified. Estimated from input data size: 1\n",
      "In order to change the average load for a reducer (in bytes):\n",
      "  set hive.exec.reducers.bytes.per.reducer=<number>\n",
      "In order to limit the maximum number of reducers:\n",
      "  set hive.exec.reducers.max=<number>\n",
      "In order to set a constant number of reducers:\n",
      "  set mapreduce.job.reduces=<number>\n",
      "Starting Job = job_1520959836906_0049, Tracking URL = http://d724ebf96142:8088/proxy/application_1520959836906_0049/\n",
      "Kill Command = /opt/hadoop/bin/hadoop job  -kill job_1520959836906_0049\n",
      "Hadoop job information for Stage-3: number of mappers: 1; number of reducers: 1\n",
      "2018-03-13 21:43:08,359 Stage-3 map = 0%,  reduce = 0%\n",
      "2018-03-13 21:43:16,933 Stage-3 map = 100%,  reduce = 0%, Cumulative CPU 3.96 sec\n",
      "2018-03-13 21:43:26,621 Stage-3 map = 100%,  reduce = 100%, Cumulative CPU 11.44 sec\n",
      "MapReduce Total cumulative CPU time: 11 seconds 440 msec\n",
      "Ended Job = job_1520959836906_0049\n",
      "Launching Job 4 out of 4\n",
      "Number of reduce tasks determined at compile time: 1\n",
      "In order to change the average load for a reducer (in bytes):\n",
      "  set hive.exec.reducers.bytes.per.reducer=<number>\n",
      "In order to limit the maximum number of reducers:\n",
      "  set hive.exec.reducers.max=<number>\n",
      "In order to set a constant number of reducers:\n",
      "  set mapreduce.job.reduces=<number>\n",
      "Starting Job = job_1520959836906_0050, Tracking URL = http://d724ebf96142:8088/proxy/application_1520959836906_0050/\n",
      "Kill Command = /opt/hadoop/bin/hadoop job  -kill job_1520959836906_0050\n",
      "Hadoop job information for Stage-4: number of mappers: 1; number of reducers: 1\n",
      "2018-03-13 21:43:47,224 Stage-4 map = 0%,  reduce = 0%\n",
      "2018-03-13 21:43:57,482 Stage-4 map = 100%,  reduce = 0%, Cumulative CPU 4.23 sec\n",
      "2018-03-13 21:44:06,168 Stage-4 map = 100%,  reduce = 100%, Cumulative CPU 8.63 sec\n",
      "MapReduce Total cumulative CPU time: 8 seconds 630 msec\n",
      "Ended Job = job_1520959836906_0050\n",
      "MapReduce Jobs Launched: \n",
      "Stage-Stage-1: Map: 1  Reduce: 1   Cumulative CPU: 14.16 sec   HDFS Read: 970678 HDFS Write: 316407 SUCCESS\n",
      "Stage-Stage-2: Map: 1  Reduce: 1   Cumulative CPU: 10.52 sec   HDFS Read: 322334 HDFS Write: 347254 SUCCESS\n",
      "Stage-Stage-3: Map: 1  Reduce: 1   Cumulative CPU: 11.44 sec   HDFS Read: 353631 HDFS Write: 378100 SUCCESS\n",
      "Stage-Stage-4: Map: 1  Reduce: 1   Cumulative CPU: 8.63 sec   HDFS Read: 383261 HDFS Write: 188 SUCCESS\n",
      "Total MapReduce CPU Time Spent: 44 seconds 750 msec\n",
      "OK\n",
      "javascript\t1\t5\t2771\t192\n",
      "java\t2\t2\t2033\t243\n",
      "android\t3\t52\t1809\t25\n",
      "php\t4\t3\t1673\t215\n",
      "python\t5\t11\t1585\t108\n",
      "c#\t6\t1\t1519\t423\n",
      "html\t7\t14\t1212\t84\n",
      "jquery\t8\t8\t1167\t141\n",
      "ios\t9\t186\t914\t7\n",
      "css\t10\t20\t801\t59\n",
      "Time taken: 150.784 seconds, Fetched: 10 row(s)\n"
     ]
    }
   ],
   "source": [
    "!hive -f query.hql"
   ]
  }
 ],
 "metadata": {
  "kernelspec": {
   "display_name": "Python 2",
   "language": "python",
   "name": "python2"
  },
  "language_info": {
   "codemirror_mode": {
    "name": "ipython",
    "version": 2
   },
   "file_extension": ".py",
   "mimetype": "text/x-python",
   "name": "python",
   "nbconvert_exporter": "python",
   "pygments_lexer": "ipython2",
   "version": "2.7.12"
  }
 },
 "nbformat": 4,
 "nbformat_minor": 2
}
