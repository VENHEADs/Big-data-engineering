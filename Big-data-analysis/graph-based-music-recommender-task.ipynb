{
 "cells": [
  {
   "cell_type": "code",
   "execution_count": 1,
   "metadata": {},
   "outputs": [
    {
     "name": "stdout",
     "output_type": "stream",
     "text": [
      "Welcome to\n",
      "      ____              __\n",
      "     / __/__  ___ _____/ /__\n",
      "    _\\ \\/ _ \\/ _ `/ __/  '_/\n",
      "   /__ / .__/\\_,_/_/ /_/\\_\\   version 2.1.1\n",
      "      /_/\n",
      "\n",
      "Using Python version 2.7.12 (default, Nov 19 2016 06:48:10)\n",
      "SparkSession available as 'spark'.\n"
     ]
    }
   ],
   "source": [
    "import os\n",
    "\n",
    "from pyspark.sql import SparkSession\n",
    "from pyspark.sql.functions import *\n",
    "from pyspark.sql import Window\n",
    "\n",
    "execfile(os.path.join(os.environ[\"SPARK_HOME\"], 'python/pyspark/shell.py'))"
   ]
  },
  {
   "cell_type": "code",
   "execution_count": 2,
   "metadata": {},
   "outputs": [],
   "source": [
    "sparkSession = SparkSession.builder.enableHiveSupport().master(\"local [2]\").getOrCreate()\n",
    "\n",
    "data = sparkSession.read.parquet(\"/data/sample264\")\n",
    "meta = sparkSession.read.parquet(\"/data/meta\")"
   ]
  },
  {
   "cell_type": "code",
   "execution_count": 3,
   "metadata": {},
   "outputs": [],
   "source": [
    "def norm(df, key1, key2, field, n): \n",
    "    \n",
    "    window = Window.partitionBy(key1).orderBy(col(field).desc())\n",
    "        \n",
    "    topsDF = df.withColumn(\"row_number\", row_number().over(window)) \\\n",
    "        .filter(col(\"row_number\") <= n) \\\n",
    "        .drop(col(\"row_number\")) \n",
    "        \n",
    "    tmpDF = topsDF.groupBy(col(key1)).agg(col(key1), sum(col(field)).alias(\"sum_\" + field))\n",
    "   \n",
    "    normalizedDF = topsDF.join(tmpDF, key1, \"inner\") \\\n",
    "        .withColumn(\"norm_\" + field, col(field) / col(\"sum_\" + field)) \\\n",
    "        .cache()\n",
    "\n",
    "    return normalizedDF"
   ]
  },
  {
   "cell_type": "code",
   "execution_count": 4,
   "metadata": {},
   "outputs": [],
   "source": [
    "data2 = data.select(col('userId').alias('userId'), \n",
    "                    col('trackId').alias('trackId2'), \n",
    "                    col('artistId').alias('artistId2'), \n",
    "                    col('timestamp').alias('timestamp2'))"
   ]
  },
  {
   "cell_type": "code",
   "execution_count": 5,
   "metadata": {},
   "outputs": [],
   "source": [
    "trackToTrak = data.join(data2, 'userId', 'inner') \\\n",
    "                  .filter((col('trackId') < col('trackId2')) & (abs(col('timestamp') - col('timestamp2')) < 421)) \\\n",
    "                  .groupBy(col('trackId'), col('trackId2')) \\\n",
    "                  .agg(count(lit(1)).alias('count'))\n",
    "    \n",
    "trackToTrackList = norm(trackToTrak, \"trackId\", \"trackId2\", \"count\", 40) \\\n",
    "        .withColumn(\"id\", col(\"trackId\")) \\\n",
    "        .withColumn(\"id2\", col(\"trackId2\")) \\\n",
    "        .withColumn(\"norm_count\", col(\"norm_count\") * 0.5) \\\n",
    "        .orderBy(desc(\"norm_count\"), asc(\"id\"), asc(\"id2\")) \\\n",
    "        .limit(40) \\\n",
    "        .select(col(\"id\"), col(\"id2\")) \\\n",
    "        .collect()"
   ]
  },
  {
   "cell_type": "code",
   "execution_count": 6,
   "metadata": {},
   "outputs": [
    {
     "name": "stdout",
     "output_type": "stream",
     "text": [
      "798256 923706\n",
      "798319 837992\n",
      "798322 876562\n",
      "798331 827364\n",
      "798335 840741\n",
      "798374 816874\n",
      "798375 810685\n",
      "798379 812055\n",
      "798380 840113\n",
      "798396 817687\n",
      "798398 926302\n",
      "798405 867217\n",
      "798443 905923\n",
      "798457 918918\n",
      "798460 891840\n",
      "798461 940379\n",
      "798470 840814\n",
      "798474 963162\n",
      "798477 883244\n",
      "798485 955521\n",
      "798505 905671\n",
      "798545 949238\n",
      "798550 936295\n",
      "798626 845438\n",
      "798691 818279\n",
      "798692 898823\n",
      "798702 811440\n",
      "798704 937570\n",
      "798725 933147\n",
      "798738 894170\n",
      "798745 799665\n",
      "798782 956938\n",
      "798801 950802\n",
      "798820 890393\n",
      "798833 916319\n",
      "798865 962662\n",
      "798931 893574\n",
      "798946 946408\n",
      "799012 809997\n",
      "799024 935246\n"
     ]
    }
   ],
   "source": [
    "for val in trackToTrackList:\n",
    "    print \"%s %s\" % val"
   ]
  }
 ],
 "metadata": {
  "kernelspec": {
   "display_name": "Python 2",
   "language": "python",
   "name": "python2"
  },
  "language_info": {
   "codemirror_mode": {
    "name": "ipython",
    "version": 2
   },
   "file_extension": ".py",
   "mimetype": "text/x-python",
   "name": "python",
   "nbconvert_exporter": "python",
   "pygments_lexer": "ipython2",
   "version": "2.7.12"
  }
 },
 "nbformat": 4,
 "nbformat_minor": 2
}
