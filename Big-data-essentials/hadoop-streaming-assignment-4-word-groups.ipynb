{
 "cells": [
  {
   "cell_type": "markdown",
   "metadata": {},
   "source": [
    "### Word Groups"
   ]
  },
  {
   "cell_type": "markdown",
   "metadata": {},
   "source": [
    "#### Task description\n",
    "Calculate statistics for groups of words which are equal up to permutations of letters. For example, ‘emit’, ‘item’ and ‘time’ are the same words up to a permutation of letters. Determine such groups of words and sum all their counts. Apply stop words filter. Filter out groups that consist of only one word.\n",
    "\n",
    "Output: count of occurrences for the group of words, number of unique words in the group, comma-separated list of the words in the group in lexicographical order:\n",
    "\n",
    "sum < tab > group size < tab > word1,word2,...\n",
    "\n",
    "Example: assume ‘emit’ occurred 3 times, 'item' -- 2 times, 'time' -- 5 times; 3 + 2 + 5 = 10, group contains 3 words, so for this group result is:\n",
    "\n",
    "10 3 emit,item,time\n",
    "\n",
    "The result of the task is the output line with word ‘english’."
   ]
  },
  {
   "cell_type": "code",
   "execution_count": 1,
   "metadata": {},
   "outputs": [
    {
     "name": "stdout",
     "output_type": "stream",
     "text": [
      "Overwriting mapper.py\n"
     ]
    }
   ],
   "source": [
    "%%writefile mapper.py\n",
    "\n",
    "import sys\n",
    "import re\n",
    "\n",
    "reload(sys)\n",
    "sys.setdefaultencoding('utf-8') # required to convert to unicode\n",
    "\n",
    "path_to_file='stop_words_en.txt'\n",
    "\n",
    "with open(path_to_file) as stop_words_file:\n",
    "    content = stop_words_file.readlines()\n",
    "    stop_words = set(l.strip().lower() for l in content)\n",
    "\n",
    "for line in sys.stdin:\n",
    "    try:\n",
    "        article_id, text = unicode(line.strip()).split('\\t', 1)\n",
    "    except ValueError as e:\n",
    "        continue\n",
    "    words = re.split(\"\\W*\\s+\\W*\", text, flags=re.UNICODE)\n",
    "    for word in words:\n",
    "        word = word.lower()\n",
    "        \n",
    "        if word in stop_words:\n",
    "            continue\n",
    "            \n",
    "        letters = list(word)\n",
    "        if len(letters) != 1:\n",
    "            key = ''.join(sorted(letters))\n",
    "\n",
    "            print \"%s\\t%s\\t%d\" % (key, word, 1)"
   ]
  },
  {
   "cell_type": "code",
   "execution_count": 2,
   "metadata": {},
   "outputs": [
    {
     "name": "stdout",
     "output_type": "stream",
     "text": [
      "Overwriting reducer.py\n"
     ]
    }
   ],
   "source": [
    "%%writefile reducer.py\n",
    "\n",
    "import sys\n",
    "import re\n",
    "\n",
    "current_key = None\n",
    "word_sum = 0\n",
    "current_words = set()\n",
    "\n",
    "for line in sys.stdin:\n",
    "    try:\n",
    "        key, origin, count = line.strip().split('\\t', 2)\n",
    "        count = int(count)\n",
    "    except ValueError as e:\n",
    "        continue\n",
    "    if current_key != key:\n",
    "        if current_key and len(current_words) != 1:\n",
    "            print \"%d\\t%d\\t%s\" % (word_sum, len(current_words), ','.join(sorted(current_words)))\n",
    "        word_sum = 0\n",
    "        current_key = key\n",
    "        current_words = set()\n",
    "    word_sum += count\n",
    "    current_words.add(origin)\n",
    "\n",
    "if current_key and len(current_words) != 1:\n",
    "    print \"%d\\t%d\\t%s\" % (word_sum, len(current_words), ','.join(sorted(current_words)))"
   ]
  },
  {
   "cell_type": "code",
   "execution_count": 3,
   "metadata": {},
   "outputs": [
    {
     "name": "stdout",
     "output_type": "stream",
     "text": [
      "2\t2\trates\".in,rates.\"in\n",
      "2\t2\tworld'.in,world.'in\n",
      "3\t2\tsahara's,shaara's\n",
      "5\t2\talban's,nabal's\n",
      "3\t2\tadal's,alda's\n",
      "20\t3\tada's,as'ad,sa'ad\n",
      "3\t2\tartisan's,sartain's\n",
      "3\t3\tabel's,bale's,beal's\n",
      "43\t2\tbrain's,brian's\n",
      "8\t2\tcastel's,castle's\n"
     ]
    },
    {
     "name": "stderr",
     "output_type": "stream",
     "text": [
      "18/01/15 22:25:30 INFO client.RMProxy: Connecting to ResourceManager at /0.0.0.0:8032\n",
      "18/01/15 22:25:30 INFO client.RMProxy: Connecting to ResourceManager at /0.0.0.0:8032\n",
      "18/01/15 22:25:31 INFO mapred.FileInputFormat: Total input files to process : 1\n",
      "18/01/15 22:25:31 INFO mapreduce.JobSubmitter: number of splits:2\n",
      "18/01/15 22:25:31 INFO mapreduce.JobSubmitter: Submitting tokens for job: job_1516011326149_0011\n",
      "18/01/15 22:25:31 INFO impl.YarnClientImpl: Submitted application application_1516011326149_0011\n",
      "18/01/15 22:25:31 INFO mapreduce.Job: The url to track the job: http://a0872c38c6f3:8088/proxy/application_1516011326149_0011/\n",
      "18/01/15 22:25:31 INFO mapreduce.Job: Running job: job_1516011326149_0011\n",
      "18/01/15 22:25:37 INFO mapreduce.Job: Job job_1516011326149_0011 running in uber mode : false\n",
      "18/01/15 22:25:37 INFO mapreduce.Job:  map 0% reduce 0%\n",
      "18/01/15 22:25:53 INFO mapreduce.Job:  map 41% reduce 0%\n",
      "18/01/15 22:25:59 INFO mapreduce.Job:  map 61% reduce 0%\n",
      "18/01/15 22:26:04 INFO mapreduce.Job:  map 80% reduce 0%\n",
      "18/01/15 22:26:05 INFO mapreduce.Job:  map 100% reduce 0%\n",
      "18/01/15 22:26:11 INFO mapreduce.Job:  map 100% reduce 13%\n",
      "18/01/15 22:26:12 INFO mapreduce.Job:  map 100% reduce 25%\n",
      "18/01/15 22:26:13 INFO mapreduce.Job:  map 100% reduce 38%\n",
      "18/01/15 22:26:17 INFO mapreduce.Job:  map 100% reduce 50%\n",
      "18/01/15 22:26:18 INFO mapreduce.Job:  map 100% reduce 63%\n",
      "18/01/15 22:26:19 INFO mapreduce.Job:  map 100% reduce 100%\n",
      "18/01/15 22:26:20 INFO mapreduce.Job: Job job_1516011326149_0011 completed successfully\n",
      "18/01/15 22:26:20 INFO mapreduce.Job: Counters: 50\n",
      "\tFile System Counters\n",
      "\t\tFILE: Number of bytes read=270487559\n",
      "\t\tFILE: Number of bytes written=407039876\n",
      "\t\tFILE: Number of read operations=0\n",
      "\t\tFILE: Number of large read operations=0\n",
      "\t\tFILE: Number of write operations=0\n",
      "\t\tHDFS: Number of bytes read=76874501\n",
      "\t\tHDFS: Number of bytes written=772631\n",
      "\t\tHDFS: Number of read operations=30\n",
      "\t\tHDFS: Number of large read operations=0\n",
      "\t\tHDFS: Number of write operations=16\n",
      "\tJob Counters \n",
      "\t\tKilled reduce tasks=1\n",
      "\t\tLaunched map tasks=2\n",
      "\t\tLaunched reduce tasks=9\n",
      "\t\tData-local map tasks=2\n",
      "\t\tTotal time spent by all maps in occupied slots (ms)=50428\n",
      "\t\tTotal time spent by all reduces in occupied slots (ms)=53170\n",
      "\t\tTotal time spent by all map tasks (ms)=50428\n",
      "\t\tTotal time spent by all reduce tasks (ms)=53170\n",
      "\t\tTotal vcore-milliseconds taken by all map tasks=50428\n",
      "\t\tTotal vcore-milliseconds taken by all reduce tasks=53170\n",
      "\t\tTotal megabyte-milliseconds taken by all map tasks=51638272\n",
      "\t\tTotal megabyte-milliseconds taken by all reduce tasks=54446080\n",
      "\tMap-Reduce Framework\n",
      "\t\tMap input records=4100\n",
      "\t\tMap output records=6846035\n",
      "\t\tMap output bytes=121521256\n",
      "\t\tMap output materialized bytes=135213444\n",
      "\t\tInput split bytes=228\n",
      "\t\tCombine input records=0\n",
      "\t\tCombine output records=0\n",
      "\t\tReduce input groups=369498\n",
      "\t\tReduce shuffle bytes=135213444\n",
      "\t\tReduce input records=6846035\n",
      "\t\tReduce output records=32572\n",
      "\t\tSpilled Records=20538105\n",
      "\t\tShuffled Maps =16\n",
      "\t\tFailed Shuffles=0\n",
      "\t\tMerged Map outputs=16\n",
      "\t\tGC time elapsed (ms)=941\n",
      "\t\tCPU time spent (ms)=88200\n",
      "\t\tPhysical memory (bytes) snapshot=2328231936\n",
      "\t\tVirtual memory (bytes) snapshot=20206723072\n",
      "\t\tTotal committed heap usage (bytes)=1587019776\n",
      "\tShuffle Errors\n",
      "\t\tBAD_ID=0\n",
      "\t\tCONNECTION=0\n",
      "\t\tIO_ERROR=0\n",
      "\t\tWRONG_LENGTH=0\n",
      "\t\tWRONG_MAP=0\n",
      "\t\tWRONG_REDUCE=0\n",
      "\tFile Input Format Counters \n",
      "\t\tBytes Read=76874273\n",
      "\tFile Output Format Counters \n",
      "\t\tBytes Written=772631\n",
      "18/01/15 22:26:20 INFO streaming.StreamJob: Output directory: wordcount_result_lkv\n",
      "cat: Unable to write to output stream.\n"
     ]
    }
   ],
   "source": [
    "%%bash\n",
    "\n",
    "OUT_DIR=\"wordcount_result_lkv\"\n",
    "NUM_REDUCERS=8\n",
    "\n",
    "hdfs dfs -rm -r -skipTrash ${OUT_DIR} > /dev/null\n",
    "\n",
    "yarn jar /opt/cloudera/parcels/CDH/lib/hadoop-mapreduce/hadoop-streaming.jar \\\n",
    "    -D mapred.jab.name=\"Streaming word groups\" \\\n",
    "    -D mapreduce.job.reduces=${NUM_REDUCERS} \\\n",
    "    -files mapper.py,reducer.py,/datasets/stop_words_en.txt \\\n",
    "    -mapper \"python mapper.py\" \\\n",
    "    -reducer \"python reducer.py\" \\\n",
    "    -input /data/wiki/en_articles_part \\\n",
    "    -output ${OUT_DIR} > /dev/null\n",
    "\n",
    "hdfs dfs -cat ${OUT_DIR}/part-00005 | head"
   ]
  }
 ],
 "metadata": {
  "kernelspec": {
   "display_name": "Python 3",
   "language": "python",
   "name": "python3"
  },
  "language_info": {
   "codemirror_mode": {
    "name": "ipython",
    "version": 3
   },
   "file_extension": ".py",
   "mimetype": "text/x-python",
   "name": "python",
   "nbconvert_exporter": "python",
   "pygments_lexer": "ipython3",
   "version": "3.6.3"
  }
 },
 "nbformat": 4,
 "nbformat_minor": 2
}
