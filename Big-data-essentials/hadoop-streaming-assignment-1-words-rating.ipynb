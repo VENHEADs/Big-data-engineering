{
 "cells": [
  {
   "cell_type": "markdown",
   "metadata": {},
   "source": [
    "### Word ranking"
   ]
  },
  {
   "cell_type": "markdown",
   "metadata": {},
   "source": [
    "#### Task description\n",
    "Create your own WordCount program and process Wikipedia dump. Use the second job to sort words by quantity in the reverse order (most popular first). Output format:\n",
    "\n",
    "word < tab > count\n",
    "\n",
    "The result is the 7th word by popularity and its quantity."
   ]
  },
  {
   "cell_type": "code",
   "execution_count": 44,
   "metadata": {},
   "outputs": [
    {
     "name": "stdout",
     "output_type": "stream",
     "text": [
      "Overwriting mapper.py\n"
     ]
    }
   ],
   "source": [
    "%%writefile mapper.py\n",
    "\n",
    "import sys\n",
    "import re\n",
    "\n",
    "reload(sys)\n",
    "sys.setdefaultencoding('utf-8') # required to convert to unicode\n",
    "\n",
    "for line in sys.stdin:\n",
    "    try:\n",
    "        article_id, text = unicode(line.strip()).split('\\t', 1)\n",
    "    except ValueError as e:\n",
    "        continue\n",
    "    words = re.split(\"\\W*\\s+\\W*\", text, flags=re.UNICODE)\n",
    "    for word in words:\n",
    "        print >> sys.stderr, \"reporter:counter:Wiki stats,Total words,%d\" % 1\n",
    "        print \"%s\\t%d\" % (word.lower(), 1)"
   ]
  },
  {
   "cell_type": "code",
   "execution_count": 45,
   "metadata": {},
   "outputs": [
    {
     "name": "stdout",
     "output_type": "stream",
     "text": [
      "Overwriting reducer.py\n"
     ]
    }
   ],
   "source": [
    "%%writefile reducer.py\n",
    "\n",
    "import sys\n",
    "\n",
    "current_key = None\n",
    "word_sum = 0"
   ]
  },
  {
   "cell_type": "code",
   "execution_count": 46,
   "metadata": {},
   "outputs": [
    {
     "name": "stdout",
     "output_type": "stream",
     "text": [
      "Appending to reducer.py\n"
     ]
    }
   ],
   "source": [
    "%%writefile -a reducer.py\n",
    "\n",
    "for line in sys.stdin:\n",
    "    try:\n",
    "        key, count = line.strip().split('\\t', 1)\n",
    "        count = int(count)\n",
    "    except ValueError as e:\n",
    "        continue\n",
    "    if current_key != key:\n",
    "        if current_key:\n",
    "            print \"%s\\t%d\" % (current_key, word_sum)\n",
    "        word_sum = 0\n",
    "        current_key = key\n",
    "    word_sum += count\n",
    "\n",
    "if current_key:\n",
    "    print \"%s\\t%d\" % (current_key, word_sum)"
   ]
  },
  {
   "cell_type": "code",
   "execution_count": 47,
   "metadata": {},
   "outputs": [
    {
     "name": "stdout",
     "output_type": "stream",
     "text": [
      "Found 1 items\r\n",
      "drwxrwxrwx   - jovyan supergroup          0 2017-10-17 13:15 /data/wiki/en_articles_part\r\n"
     ]
    }
   ],
   "source": [
    "! hdfs dfs -ls /data/wiki"
   ]
  },
  {
   "cell_type": "code",
   "execution_count": 48,
   "metadata": {},
   "outputs": [
    {
     "name": "stdout",
     "output_type": "stream",
     "text": [
      "Overwriting mapper-words-ranking.py\n"
     ]
    }
   ],
   "source": [
    "%%writefile mapper-words-ranking.py\n",
    "\n",
    "import sys\n",
    "\n",
    "for line in sys.stdin:\n",
    "    try:\n",
    "        w, c = line.strip().split('\\t', 1)\n",
    "    except ValueError as e:\n",
    "        continue\n",
    "    print \"%d\\t%s\" % (int(c), w)"
   ]
  },
  {
   "cell_type": "code",
   "execution_count": 49,
   "metadata": {},
   "outputs": [
    {
     "name": "stdout",
     "output_type": "stream",
     "text": [
      "Writing reducer-words-ranking.py\n"
     ]
    }
   ],
   "source": [
    "%%writefile reducer-words-ranking.py\n",
    "\n",
    "import sys\n",
    "\n",
    "for line in sys.stdin:\n",
    "    try:\n",
    "        c, w = line.strip().split('\\t', 1)\n",
    "    except ValueError as e:\n",
    "        continue\n",
    "    print \"%s\\t%s\" % (w, c)"
   ]
  },
  {
   "cell_type": "code",
   "execution_count": 54,
   "metadata": {},
   "outputs": [
    {
     "name": "stdout",
     "output_type": "stream",
     "text": [
      "is\t126420\n"
     ]
    },
    {
     "name": "stderr",
     "output_type": "stream",
     "text": [
      "rm: `words_ranking_result_lkv': No such file or directory\n",
      "18/01/14 11:19:53 INFO client.RMProxy: Connecting to ResourceManager at /0.0.0.0:8032\n",
      "18/01/14 11:19:53 INFO client.RMProxy: Connecting to ResourceManager at /0.0.0.0:8032\n",
      "18/01/14 11:19:53 INFO mapred.FileInputFormat: Total input files to process : 1\n",
      "18/01/14 11:19:53 INFO mapreduce.JobSubmitter: number of splits:2\n",
      "18/01/14 11:19:53 INFO mapreduce.JobSubmitter: Submitting tokens for job: job_1515878426045_0008\n",
      "18/01/14 11:19:54 INFO impl.YarnClientImpl: Submitted application application_1515878426045_0008\n",
      "18/01/14 11:19:54 INFO mapreduce.Job: The url to track the job: http://330ad0c23dc0:8088/proxy/application_1515878426045_0008/\n",
      "18/01/14 11:19:54 INFO mapreduce.Job: Running job: job_1515878426045_0008\n",
      "18/01/14 11:20:00 INFO mapreduce.Job: Job job_1515878426045_0008 running in uber mode : false\n",
      "18/01/14 11:20:00 INFO mapreduce.Job:  map 0% reduce 0%\n",
      "18/01/14 11:20:16 INFO mapreduce.Job:  map 28% reduce 0%\n",
      "18/01/14 11:20:22 INFO mapreduce.Job:  map 43% reduce 0%\n",
      "18/01/14 11:20:28 INFO mapreduce.Job:  map 46% reduce 0%\n",
      "18/01/14 11:20:34 INFO mapreduce.Job:  map 59% reduce 0%\n",
      "18/01/14 11:20:40 INFO mapreduce.Job:  map 67% reduce 0%\n",
      "18/01/14 11:20:42 INFO mapreduce.Job:  map 83% reduce 0%\n",
      "18/01/14 11:20:45 INFO mapreduce.Job:  map 100% reduce 0%\n",
      "18/01/14 11:20:47 INFO mapreduce.Job:  map 100% reduce 13%\n",
      "18/01/14 11:20:48 INFO mapreduce.Job:  map 100% reduce 25%\n",
      "18/01/14 11:20:49 INFO mapreduce.Job:  map 100% reduce 50%\n",
      "18/01/14 11:20:50 INFO mapreduce.Job:  map 100% reduce 63%\n",
      "18/01/14 11:20:51 INFO mapreduce.Job:  map 100% reduce 75%\n",
      "18/01/14 11:20:52 INFO mapreduce.Job:  map 100% reduce 100%\n",
      "18/01/14 11:20:52 INFO mapreduce.Job: Job job_1515878426045_0008 completed successfully\n",
      "18/01/14 11:20:52 INFO mapreduce.Job: Counters: 51\n",
      "\tFile System Counters\n",
      "\t\tFILE: Number of bytes read=17954826\n",
      "\t\tFILE: Number of bytes written=28257923\n",
      "\t\tFILE: Number of read operations=0\n",
      "\t\tFILE: Number of large read operations=0\n",
      "\t\tFILE: Number of write operations=0\n",
      "\t\tHDFS: Number of bytes read=76874501\n",
      "\t\tHDFS: Number of bytes written=5370513\n",
      "\t\tHDFS: Number of read operations=30\n",
      "\t\tHDFS: Number of large read operations=0\n",
      "\t\tHDFS: Number of write operations=16\n",
      "\tJob Counters \n",
      "\t\tKilled reduce tasks=1\n",
      "\t\tLaunched map tasks=2\n",
      "\t\tLaunched reduce tasks=8\n",
      "\t\tData-local map tasks=2\n",
      "\t\tTotal time spent by all maps in occupied slots (ms)=82268\n",
      "\t\tTotal time spent by all reduces in occupied slots (ms)=23449\n",
      "\t\tTotal time spent by all map tasks (ms)=82268\n",
      "\t\tTotal time spent by all reduce tasks (ms)=23449\n",
      "\t\tTotal vcore-milliseconds taken by all map tasks=82268\n",
      "\t\tTotal vcore-milliseconds taken by all reduce tasks=23449\n",
      "\t\tTotal megabyte-milliseconds taken by all map tasks=84242432\n",
      "\t\tTotal megabyte-milliseconds taken by all reduce tasks=24011776\n",
      "\tMap-Reduce Framework\n",
      "\t\tMap input records=4100\n",
      "\t\tMap output records=11937375\n",
      "\t\tMap output bytes=97842436\n",
      "\t\tMap output materialized bytes=8952763\n",
      "\t\tInput split bytes=228\n",
      "\t\tCombine input records=11937375\n",
      "\t\tCombine output records=640011\n",
      "\t\tReduce input groups=427175\n",
      "\t\tReduce shuffle bytes=8952763\n",
      "\t\tReduce input records=640011\n",
      "\t\tReduce output records=427175\n",
      "\t\tSpilled Records=1920033\n",
      "\t\tShuffled Maps =16\n",
      "\t\tFailed Shuffles=0\n",
      "\t\tMerged Map outputs=16\n",
      "\t\tGC time elapsed (ms)=1550\n",
      "\t\tCPU time spent (ms)=148460\n",
      "\t\tPhysical memory (bytes) snapshot=2318426112\n",
      "\t\tVirtual memory (bytes) snapshot=20209197056\n",
      "\t\tTotal committed heap usage (bytes)=1631059968\n",
      "\tShuffle Errors\n",
      "\t\tBAD_ID=0\n",
      "\t\tCONNECTION=0\n",
      "\t\tIO_ERROR=0\n",
      "\t\tWRONG_LENGTH=0\n",
      "\t\tWRONG_MAP=0\n",
      "\t\tWRONG_REDUCE=0\n",
      "\tWiki stats\n",
      "\t\tTotal words=11937375\n",
      "\tFile Input Format Counters \n",
      "\t\tBytes Read=76874273\n",
      "\tFile Output Format Counters \n",
      "\t\tBytes Written=5370513\n",
      "18/01/14 11:20:52 INFO streaming.StreamJob: Output directory: wordcount_result_lkv\n",
      "18/01/14 11:20:54 INFO client.RMProxy: Connecting to ResourceManager at /0.0.0.0:8032\n",
      "18/01/14 11:20:54 INFO client.RMProxy: Connecting to ResourceManager at /0.0.0.0:8032\n",
      "18/01/14 11:20:55 INFO mapred.FileInputFormat: Total input files to process : 8\n",
      "18/01/14 11:20:55 INFO mapreduce.JobSubmitter: number of splits:8\n",
      "18/01/14 11:20:55 INFO Configuration.deprecation: mapred.text.key.comparator.options is deprecated. Instead, use mapreduce.partition.keycomparator.options\n",
      "18/01/14 11:20:55 INFO mapreduce.JobSubmitter: Submitting tokens for job: job_1515878426045_0009\n",
      "18/01/14 11:20:55 INFO impl.YarnClientImpl: Submitted application application_1515878426045_0009\n",
      "18/01/14 11:20:55 INFO mapreduce.Job: The url to track the job: http://330ad0c23dc0:8088/proxy/application_1515878426045_0009/\n",
      "18/01/14 11:20:55 INFO mapreduce.Job: Running job: job_1515878426045_0009\n",
      "18/01/14 11:21:04 INFO mapreduce.Job: Job job_1515878426045_0009 running in uber mode : false\n",
      "18/01/14 11:21:04 INFO mapreduce.Job:  map 0% reduce 0%\n",
      "18/01/14 11:21:09 INFO mapreduce.Job:  map 75% reduce 0%\n",
      "18/01/14 11:21:12 INFO mapreduce.Job:  map 100% reduce 0%\n",
      "18/01/14 11:21:15 INFO mapreduce.Job:  map 100% reduce 100%\n",
      "18/01/14 11:21:16 INFO mapreduce.Job: Job job_1515878426045_0009 completed successfully\n",
      "18/01/14 11:21:16 INFO mapreduce.Job: Counters: 49\n",
      "\tFile System Counters\n",
      "\t\tFILE: Number of bytes read=6224888\n",
      "\t\tFILE: Number of bytes written=13711023\n",
      "\t\tFILE: Number of read operations=0\n",
      "\t\tFILE: Number of large read operations=0\n",
      "\t\tFILE: Number of write operations=0\n",
      "\t\tHDFS: Number of bytes read=5371449\n",
      "\t\tHDFS: Number of bytes written=5370513\n",
      "\t\tHDFS: Number of read operations=27\n",
      "\t\tHDFS: Number of large read operations=0\n",
      "\t\tHDFS: Number of write operations=2\n",
      "\tJob Counters \n",
      "\t\tLaunched map tasks=8\n",
      "\t\tLaunched reduce tasks=1\n",
      "\t\tData-local map tasks=8\n",
      "\t\tTotal time spent by all maps in occupied slots (ms)=24265\n",
      "\t\tTotal time spent by all reduces in occupied slots (ms)=3463\n",
      "\t\tTotal time spent by all map tasks (ms)=24265\n",
      "\t\tTotal time spent by all reduce tasks (ms)=3463\n",
      "\t\tTotal vcore-milliseconds taken by all map tasks=24265\n",
      "\t\tTotal vcore-milliseconds taken by all reduce tasks=3463\n",
      "\t\tTotal megabyte-milliseconds taken by all map tasks=24847360\n",
      "\t\tTotal megabyte-milliseconds taken by all reduce tasks=3546112\n",
      "\tMap-Reduce Framework\n",
      "\t\tMap input records=427175\n",
      "\t\tMap output records=427175\n",
      "\t\tMap output bytes=5370522\n",
      "\t\tMap output materialized bytes=6224930\n",
      "\t\tInput split bytes=936\n",
      "\t\tCombine input records=0\n",
      "\t\tCombine output records=0\n",
      "\t\tReduce input groups=2075\n",
      "\t\tReduce shuffle bytes=6224930\n",
      "\t\tReduce input records=427175\n",
      "\t\tReduce output records=427175\n",
      "\t\tSpilled Records=854350\n",
      "\t\tShuffled Maps =8\n",
      "\t\tFailed Shuffles=0\n",
      "\t\tMerged Map outputs=8\n",
      "\t\tGC time elapsed (ms)=847\n",
      "\t\tCPU time spent (ms)=14710\n",
      "\t\tPhysical memory (bytes) snapshot=2556293120\n",
      "\t\tVirtual memory (bytes) snapshot=18099265536\n",
      "\t\tTotal committed heap usage (bytes)=1755840512\n",
      "\tShuffle Errors\n",
      "\t\tBAD_ID=0\n",
      "\t\tCONNECTION=0\n",
      "\t\tIO_ERROR=0\n",
      "\t\tWRONG_LENGTH=0\n",
      "\t\tWRONG_MAP=0\n",
      "\t\tWRONG_REDUCE=0\n",
      "\tFile Input Format Counters \n",
      "\t\tBytes Read=5370513\n",
      "\tFile Output Format Counters \n",
      "\t\tBytes Written=5370513\n",
      "18/01/14 11:21:16 INFO streaming.StreamJob: Output directory: words_ranking_result_lkv\n",
      "cat: Unable to write to output stream.\n"
     ]
    }
   ],
   "source": [
    "%%bash\n",
    "\n",
    "OUT_DIR_1=\"wordcount_result_lkv\"\n",
    "NUM_REDUCERS_1=8\n",
    "\n",
    "OUTPUT_2=\"words_ranking_result_lkv\"\n",
    "NUM_REDUCERS_2=1\n",
    "\n",
    "hdfs dfs -rm -r -skipTrash ${OUT_DIR_1} > /dev/null\n",
    "hdfs dfs -rm -r -skipTrash ${OUTPUT_2} > /dev/null\n",
    "\n",
    "yarn jar /opt/cloudera/parcels/CDH/lib/hadoop-mapreduce/hadoop-streaming.jar \\\n",
    "    -D mapred.jab.name=\"Streaming wordCount\" \\\n",
    "    -D mapreduce.job.reduces=${NUM_REDUCERS_1} \\\n",
    "    -files mapper.py,reducer.py \\\n",
    "    -mapper \"python mapper.py\" \\\n",
    "    -combiner \"python reducer.py\" \\\n",
    "    -reducer \"python reducer.py\" \\\n",
    "    -input /data/wiki/en_articles_part \\\n",
    "    -output ${OUT_DIR_1} > /dev/null\n",
    "    \n",
    "\n",
    "yarn jar /opt/cloudera/parcels/CDH/lib/hadoop-mapreduce/hadoop-streaming.jar \\\n",
    "     -D mapred.jab.name=\"Streaming word ranking\" \\\n",
    "     -D mapreduce.job.reduces=${NUM_REDUCERS_2} \\\n",
    "     -D mapreduce.job.output.key.comparator.class=org.apache.hadoop.mapreduce.lib.partition.KeyFieldBasedComparator \\\n",
    "     -D mapred.text.key.comparator.options=-nr\\\n",
    "     -files mapper-words-ranking.py,reducer-words-ranking.py \\\n",
    "     -mapper \"python mapper-words-ranking.py\" \\\n",
    "     -reducer \"python reducer-words-ranking.py\" \\\n",
    "     -input wordcount_result_lkv/part* \\\n",
    "     -output ${OUTPUT_2} > /dev/null\n",
    "\n",
    "hdfs dfs -cat ${OUTPUT_2}/part-00000 | head -7 | tail -1"
   ]
  }
 ],
 "metadata": {
  "kernelspec": {
   "display_name": "Python 3",
   "language": "python",
   "name": "python3"
  },
  "language_info": {
   "codemirror_mode": {
    "name": "ipython",
    "version": 3
   },
   "file_extension": ".py",
   "mimetype": "text/x-python",
   "name": "python",
   "nbconvert_exporter": "python",
   "pygments_lexer": "ipython3",
   "version": "3.6.3"
  }
 },
 "nbformat": 4,
 "nbformat_minor": 1
}
