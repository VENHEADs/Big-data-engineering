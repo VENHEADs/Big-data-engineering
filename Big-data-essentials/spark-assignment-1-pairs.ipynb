{
 "cells": [
  {
   "cell_type": "code",
   "execution_count": 1,
   "metadata": {},
   "outputs": [
    {
     "name": "stdout",
     "output_type": "stream",
     "text": [
      "narodnaya_gazeta 1\n",
      "narodnaya_volya 9\n"
     ]
    }
   ],
   "source": [
    "import re\n",
    "\n",
    "from pyspark import SparkConf, SparkContext\n",
    "from operator import add\n",
    "\n",
    "sc = SparkContext(conf=SparkConf().setAppName('Spark pairs example').setMaster('local'))\n",
    "\n",
    "def get_pairs(line):\n",
    "    word = 'narodnaya'\n",
    "    try:\n",
    "        article_id, text = unicode(line.rstrip()).split('\\t', 1)\n",
    "        text = re.sub(\"^\\W+|\\W+$\", \"\", text, flags=re.UNICODE)\n",
    "        words = re.split(\"\\W*\\s+\\W*\", text, flags=re.UNICODE)\n",
    "\n",
    "        result = []\n",
    "        for idx, w in enumerate(words):\n",
    "            w = w.lower()\n",
    "            if w.lower() == word and idx + 1 != len(words):\n",
    "                result.append(w + '_' + words[idx+1].lower())\n",
    "              \n",
    "        return result\n",
    "    except ValueError as e:\n",
    "        return []\n",
    "    \n",
    "wiki = sc.textFile(\"/data/wiki/en_articles_part/articles-part\", 16) \\\n",
    "                  .flatMap(get_pairs) \\\n",
    "                  .map(lambda x: (x, 1)) \\\n",
    "                  .reduceByKey(add) \\\n",
    "                  .sortByKey()\n",
    "    \n",
    "output = wiki.collect()\n",
    "\n",
    "for w in output:\n",
    "    print \"%s %d\" % w"
   ]
  }
 ],
 "metadata": {
  "kernelspec": {
   "display_name": "Python 2",
   "language": "python",
   "name": "python2"
  },
  "language_info": {
   "codemirror_mode": {
    "name": "ipython",
    "version": 2.0
   },
   "file_extension": ".py",
   "mimetype": "text/x-python",
   "name": "python",
   "nbconvert_exporter": "python",
   "pygments_lexer": "ipython2",
   "version": "2.7.12"
  }
 },
 "nbformat": 4,
 "nbformat_minor": 0
}