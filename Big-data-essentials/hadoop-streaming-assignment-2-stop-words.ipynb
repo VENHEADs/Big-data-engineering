{
 "cells": [
  {
   "cell_type": "markdown",
   "metadata": {},
   "source": [
    "### Stop Words"
   ]
  },
  {
   "cell_type": "markdown",
   "metadata": {},
   "source": [
    "#### Task description\n",
    "Improve the previous program to calculate how many stop words are in the input dataset. Stop words list is in ‘/datasets/stop_words_en.txt’ file. Use Hadoop counter to count the number of stop words and total words in the dataset. The result is the percentage of stop words in the entire dataset (without percent symbol)."
   ]
  },
  {
   "cell_type": "code",
   "execution_count": 1,
   "metadata": {},
   "outputs": [
    {
     "name": "stdout",
     "output_type": "stream",
     "text": [
      "Overwriting mapper.py\n"
     ]
    }
   ],
   "source": [
    "%%writefile mapper.py\n",
    "\n",
    "import sys\n",
    "import re\n",
    "\n",
    "reload(sys)\n",
    "sys.setdefaultencoding('utf-8')\n",
    "\n",
    "path_to_file='stop_words_en.txt'\n",
    "\n",
    "with open(path_to_file) as stop_words_file:\n",
    "    content = stop_words_file.readlines()\n",
    "    stop_words = set(l.strip().lower() for l in content)\n",
    "\n",
    "for line in sys.stdin:\n",
    "    try:\n",
    "        article_id, text = unicode(line.strip()).split('\\t', 1)\n",
    "    except ValueError as e:\n",
    "        continue\n",
    "    words = re.split(\"\\W*\\s+\\W*\", text, flags=re.UNICODE)\n",
    "    for word in words:\n",
    "        print >> sys.stderr, \"reporter:counter:Wiki stats,Total words,%d\" % 1\n",
    "        print \"all\\t%d\" % 1\n",
    "        \n",
    "        if word in stop_words:\n",
    "            print >> sys.stderr, \"reporter:counter:Wiki stats,Stop words,%d\" % 1\n",
    "            print \"stop_words\\t%d\" % 1"
   ]
  },
  {
   "cell_type": "code",
   "execution_count": 2,
   "metadata": {},
   "outputs": [
    {
     "name": "stdout",
     "output_type": "stream",
     "text": [
      "Overwriting reducer.py\n"
     ]
    }
   ],
   "source": [
    "%%writefile reducer.py\n",
    "\n",
    "import sys\n",
    "\n",
    "result = {'all': 0, 'stop_words':0}\n",
    "\n",
    "for line in sys.stdin:\n",
    "    try:\n",
    "        key, count = line.strip().split('\\t', 1)\n",
    "        count = int(count)\n",
    "    except ValueError as e:\n",
    "        continue\n",
    "    \n",
    "    if key:\n",
    "        result[key] = result[key] + count\n",
    "\n",
    "all_words = result['all']\n",
    "stop_words = result['stop_words']\n",
    "persentage = float(stop_words) / all_words * 100\n",
    "print persentage"
   ]
  },
  {
   "cell_type": "code",
   "execution_count": 3,
   "metadata": {},
   "outputs": [
    {
     "name": "stdout",
     "output_type": "stream",
     "text": [
      "38.4403690091\t\n"
     ]
    },
    {
     "name": "stderr",
     "output_type": "stream",
     "text": [
      "rm: `stop_words_result': No such file or directory\n",
      "18/01/14 19:19:15 INFO client.RMProxy: Connecting to ResourceManager at /0.0.0.0:8032\n",
      "18/01/14 19:19:16 INFO client.RMProxy: Connecting to ResourceManager at /0.0.0.0:8032\n",
      "18/01/14 19:19:16 INFO mapred.FileInputFormat: Total input files to process : 1\n",
      "18/01/14 19:19:16 INFO mapreduce.JobSubmitter: number of splits:2\n",
      "18/01/14 19:19:16 INFO mapreduce.JobSubmitter: Submitting tokens for job: job_1515912325866_0014\n",
      "18/01/14 19:19:16 INFO impl.YarnClientImpl: Submitted application application_1515912325866_0014\n",
      "18/01/14 19:19:16 INFO mapreduce.Job: The url to track the job: http://4c3b86566330:8088/proxy/application_1515912325866_0014/\n",
      "18/01/14 19:19:16 INFO mapreduce.Job: Running job: job_1515912325866_0014\n",
      "18/01/14 19:19:55 INFO mapreduce.Job: Job job_1515912325866_0014 running in uber mode : false\n",
      "18/01/14 19:19:55 INFO mapreduce.Job:  map 0% reduce 0%\n",
      "18/01/14 19:20:11 INFO mapreduce.Job:  map 32% reduce 0%\n",
      "18/01/14 19:20:17 INFO mapreduce.Job:  map 49% reduce 0%\n",
      "18/01/14 19:20:23 INFO mapreduce.Job:  map 66% reduce 0%\n",
      "18/01/14 19:20:27 INFO mapreduce.Job:  map 83% reduce 0%\n",
      "18/01/14 19:20:28 INFO mapreduce.Job:  map 100% reduce 0%\n",
      "18/01/14 19:20:44 INFO mapreduce.Job:  map 100% reduce 67%\n",
      "18/01/14 19:20:56 INFO mapreduce.Job:  map 100% reduce 86%\n",
      "18/01/14 19:21:04 INFO mapreduce.Job:  map 100% reduce 100%\n",
      "18/01/14 19:21:04 INFO mapreduce.Job: Job job_1515912325866_0014 completed successfully\n",
      "18/01/14 19:21:04 INFO mapreduce.Job: Counters: 51\n",
      "\tFile System Counters\n",
      "\t\tFILE: Number of bytes read=328661178\n",
      "\t\tFILE: Number of bytes written=493411565\n",
      "\t\tFILE: Number of read operations=0\n",
      "\t\tFILE: Number of large read operations=0\n",
      "\t\tFILE: Number of write operations=0\n",
      "\t\tHDFS: Number of bytes read=76874501\n",
      "\t\tHDFS: Number of bytes written=15\n",
      "\t\tHDFS: Number of read operations=9\n",
      "\t\tHDFS: Number of large read operations=0\n",
      "\t\tHDFS: Number of write operations=2\n",
      "\tJob Counters \n",
      "\t\tLaunched map tasks=2\n",
      "\t\tLaunched reduce tasks=1\n",
      "\t\tData-local map tasks=2\n",
      "\t\tTotal time spent by all maps in occupied slots (ms)=61920\n",
      "\t\tTotal time spent by all reduces in occupied slots (ms)=34207\n",
      "\t\tTotal time spent by all map tasks (ms)=61920\n",
      "\t\tTotal time spent by all reduce tasks (ms)=34207\n",
      "\t\tTotal vcore-milliseconds taken by all map tasks=61920\n",
      "\t\tTotal vcore-milliseconds taken by all reduce tasks=34207\n",
      "\t\tTotal megabyte-milliseconds taken by all map tasks=63406080\n",
      "\t\tTotal megabyte-milliseconds taken by all reduce tasks=35027968\n",
      "\tMap-Reduce Framework\n",
      "\t\tMap input records=4100\n",
      "\t\tMap output records=16526146\n",
      "\t\tMap output bytes=131278273\n",
      "\t\tMap output materialized bytes=164330577\n",
      "\t\tInput split bytes=228\n",
      "\t\tCombine input records=0\n",
      "\t\tCombine output records=0\n",
      "\t\tReduce input groups=2\n",
      "\t\tReduce shuffle bytes=164330577\n",
      "\t\tReduce input records=16526146\n",
      "\t\tReduce output records=1\n",
      "\t\tSpilled Records=49578438\n",
      "\t\tShuffled Maps =2\n",
      "\t\tFailed Shuffles=0\n",
      "\t\tMerged Map outputs=2\n",
      "\t\tGC time elapsed (ms)=1626\n",
      "\t\tCPU time spent (ms)=153200\n",
      "\t\tPhysical memory (bytes) snapshot=797622272\n",
      "\t\tVirtual memory (bytes) snapshot=6039572480\n",
      "\t\tTotal committed heap usage (bytes)=570425344\n",
      "\tShuffle Errors\n",
      "\t\tBAD_ID=0\n",
      "\t\tCONNECTION=0\n",
      "\t\tIO_ERROR=0\n",
      "\t\tWRONG_LENGTH=0\n",
      "\t\tWRONG_MAP=0\n",
      "\t\tWRONG_REDUCE=0\n",
      "\tWiki stats\n",
      "\t\tStop words=4588771\n",
      "\t\tTotal words=11937375\n",
      "\tFile Input Format Counters \n",
      "\t\tBytes Read=76874273\n",
      "\tFile Output Format Counters \n",
      "\t\tBytes Written=15\n",
      "18/01/14 19:21:04 INFO streaming.StreamJob: Output directory: stop_words_result\n"
     ]
    }
   ],
   "source": [
    "%%bash\n",
    "\n",
    "OUT_DIR=\"stop_words_result\"\n",
    "NUM_REDUCERS=1\n",
    "\n",
    "hdfs dfs -rm -r -skipTrash ${OUT_DIR} > /dev/null\n",
    "\n",
    "yarn jar /opt/cloudera/parcels/CDH/lib/hadoop-mapreduce/hadoop-streaming.jar \\\n",
    "    -D mapred.jab.name=\"Streaming stop words\" \\\n",
    "    -D mapreduce.job.reduces=${NUM_REDUCERS} \\\n",
    "    -files mapper.py,reducer.py,/datasets/stop_words_en.txt \\\n",
    "    -mapper \"python mapper.py\" \\\n",
    "    -reducer \"python reducer.py\" \\\n",
    "    -input /data/wiki/en_articles_part \\\n",
    "    -output ${OUT_DIR} > /dev/null\n",
    "\n",
    "hdfs dfs -cat ${OUT_DIR}/part-00000 | head"
   ]
  }
 ],
 "metadata": {
  "kernelspec": {
   "display_name": "Python 3",
   "language": "python",
   "name": "python3"
  },
  "language_info": {
   "codemirror_mode": {
    "name": "ipython",
    "version": 3
   },
   "file_extension": ".py",
   "mimetype": "text/x-python",
   "name": "python",
   "nbconvert_exporter": "python",
   "pygments_lexer": "ipython3",
   "version": "3.6.3"
  }
 },
 "nbformat": 4,
 "nbformat_minor": 2
}
