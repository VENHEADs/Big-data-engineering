{
 "cells": [
  {
   "cell_type": "code",
   "execution_count": null,
   "metadata": {},
   "outputs": [],
   "source": [
    "%%time\n",
    "# Мар reduce job testing\n",
    "!hdfs dfs -cat wordcount_result/part-00000 | \\\n",
    "head -100 | \\\n",
    "/usr/bin/python2 ./mapper.py | \\\n",
    "sort | \\\n",
    "/usr/bin/python2 ./reducer.py > out.txt"
   ]
  },
  {
   "cell_type": "code",
   "execution_count": null,
   "metadata": {},
   "outputs": [],
   "source": [
    "# Check if a file exists\n",
    "!if $(hadoop fs -test -d $yourdir) ; then echo \"ok\";else echo \"not ok\"; fi"
   ]
  },
  {
   "cell_type": "code",
   "execution_count": null,
   "metadata": {},
   "outputs": [],
   "source": [
    "# Write head of a file into another\n",
    "!hdfs dfs -cat /data/wiki/en_articles_part/articles-part | head -1 | hadoop fs -put - part_02"
   ]
  },
  {
   "cell_type": "code",
   "execution_count": null,
   "metadata": {},
   "outputs": [],
   "source": [
    "# Awk example\n",
    "!cat out.txt | awk -v OFS='\\t' '{print $2}'"
   ]
  },
  {
   "cell_type": "code",
   "execution_count": null,
   "metadata": {},
   "outputs": [],
   "source": [
    "# Copy local file\n",
    "hadoop fs -put /path/in/linux /hdfs/path\n",
    "hadoop fs -copyFromLocal /path/in/linux /hdfs/path"
   ]
  }
 ],
 "metadata": {
  "kernelspec": {
   "display_name": "Python 2",
   "language": "python",
   "name": "python2"
  },
  "language_info": {
   "codemirror_mode": {
    "name": "ipython",
    "version": 2
   },
   "file_extension": ".py",
   "mimetype": "text/x-python",
   "name": "python",
   "nbconvert_exporter": "python",
   "pygments_lexer": "ipython2",
   "version": "2.7.12"
  }
 },
 "nbformat": 4,
 "nbformat_minor": 2
}
