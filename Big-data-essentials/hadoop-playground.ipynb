{
 "cells": [
  {
   "cell_type": "code",
   "execution_count": null,
   "metadata": {},
   "outputs": [],
   "source": [
    "%%time\n",
    "# Мар reduce job testing\n",
    "!hdfs dfs -cat wordcount_result/part-00000 | \\\n",
    "head -100 | \\\n",
    "/usr/bin/python2 ./mapper-words-ranking.py | \\\n",
    "sort | \\\n",
    "/usr/bin/python2 ./reduser-words-ranking.py > out.txt"
   ]
  },
  {
   "cell_type": "code",
   "execution_count": null,
   "metadata": {},
   "outputs": [],
   "source": [
    "# Check if a file exists\n",
    "!if $(hadoop fs -test -d $yourdir) ; then echo \"ok\";else echo \"not ok\"; fi"
   ]
  }
 ],
 "metadata": {
  "kernelspec": {
   "display_name": "Python 2",
   "language": "python",
   "name": "python2"
  },
  "language_info": {
   "codemirror_mode": {
    "name": "ipython",
    "version": 2
   },
   "file_extension": ".py",
   "mimetype": "text/x-python",
   "name": "python",
   "nbconvert_exporter": "python",
   "pygments_lexer": "ipython2",
   "version": "2.7.12"
  }
 },
 "nbformat": 4,
 "nbformat_minor": 2
}
